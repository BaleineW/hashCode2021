{
 "cells": [
  {
   "cell_type": "markdown",
   "metadata": {},
   "source": [
    "### read input"
   ]
  },
  {
   "cell_type": "code",
   "execution_count": 41,
   "metadata": {},
   "outputs": [],
   "source": [
    "import collections\n",
    "def read_file(fileName):\n",
    "    file = open(fileName, 'r')\n",
    "    data = file.readlines()\n",
    "    line1 = data[0].strip().split(' ')\n",
    "    M, T2, T3, T4 = int(line1[0]), int(line1[1]), int(line1[2]), int(line1[3])\n",
    "    pizzas = collections.defaultdict()\n",
    "    for i, line in enumerate(data[1:]):\n",
    "        pizza = line.strip().split(' ')\n",
    "        pizzas[i] = pizza[1:]\n",
    "        \n",
    " \n"
   ]
  },
  {
   "cell_type": "code",
   "execution_count": 42,
   "metadata": {},
   "outputs": [
    {
     "name": "stdout",
     "output_type": "stream",
     "text": [
      "5 1 2 1\n"
     ]
    }
   ],
   "source": [
    "file = open('a_example.in', 'r')\n",
    "data = file.readlines()\n",
    "line1 = data[0].strip().split(' ')\n",
    "M, T2, T3, T4 = int(line1[0]), int(line1[1]), int(line1[2]), int(line1[3])\n",
    "print(M, T2, T3, T4)"
   ]
  },
  {
   "cell_type": "code",
   "execution_count": 43,
   "metadata": {},
   "outputs": [],
   "source": [
    "pizzas = collections.defaultdict()\n",
    "for i, line in enumerate(data[1:]):\n",
    "    pizza = line.strip().split(' ')\n",
    "    pizzas[i] = pizza[1:]"
   ]
  },
  {
   "cell_type": "code",
   "execution_count": 44,
   "metadata": {},
   "outputs": [
    {
     "name": "stdout",
     "output_type": "stream",
     "text": [
      "defaultdict(None, {0: ['onion', 'pepper', 'olive'], 1: ['mushroom', 'tomato', 'basil'], 2: ['chicken', 'mushroom', 'pepper'], 3: ['tomato', 'mushroom', 'basil'], 4: ['chicken', 'basil']})\n"
     ]
    }
   ],
   "source": [
    "print(pizzas)"
   ]
  },
  {
   "cell_type": "code",
   "execution_count": null,
   "metadata": {},
   "outputs": [],
   "source": []
  }
 ],
 "metadata": {
  "kernelspec": {
   "display_name": "Python 3",
   "language": "python",
   "name": "python3"
  },
  "language_info": {
   "codemirror_mode": {
    "name": "ipython",
    "version": 3
   },
   "file_extension": ".py",
   "mimetype": "text/x-python",
   "name": "python",
   "nbconvert_exporter": "python",
   "pygments_lexer": "ipython3",
   "version": "3.7.6"
  }
 },
 "nbformat": 4,
 "nbformat_minor": 4
}
